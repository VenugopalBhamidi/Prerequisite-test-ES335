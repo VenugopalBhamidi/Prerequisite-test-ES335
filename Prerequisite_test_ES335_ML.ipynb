{
 "cells": [
  {
   "cell_type": "markdown",
   "id": "7b6ea4d0",
   "metadata": {},
   "source": [
    "Question 1)\n",
    "\n",
    "We have 2 matrices of sizes (n x k) and (k x m). First of all we can perform the multiplication between these matrices as number of columns of 1st matrix and rows of 2nd matrix are same and the final dimensions are (n x m).   \n",
    "\n",
    "We have to perform (k-1) additions and corresponding (k) multiplications for each element in the final matrix. And we have (n) such rows in 1 column. And we have (m) columns in the final matrix. So we have to do a total of (k-1)x(n)x(m) additions and (k)x(n)x(m) multiplications."
   ]
  },
  {
   "cell_type": "code",
   "execution_count": 2,
   "id": "f325025c",
   "metadata": {},
   "outputs": [
    {
     "name": "stdout",
     "output_type": "stream",
     "text": [
      "Using list of lists method: [[28, 7], [7, 11], [26, 19], [48, 25]]\n",
      "time to execute: 0.00042170000006080954 seconds\n"
     ]
    }
   ],
   "source": [
    "##Question 2): Multiply matrices of dimensions of Q1\n",
    "#1 list of lists method:\n",
    "\n",
    "#let n,k,m = 4,3,2\n",
    "\n",
    "import timeit\n",
    "code_to_test = \"\"\"\n",
    "A,B = [[1,2,3],[3,1,0],[1,8,2],[7,2,4]],[[2,3],[1,2],[8,0]] # 4 x 3, 3 x 2\n",
    "answer_1 = [[sum(a*b for a,b in zip(A_row,B_col))for B_col in zip(*B)] for A_row in A]\n",
    "print(\"Using list of lists method:\",answer_1)\n",
    "\"\"\"\n",
    "A,B = [[1,2,3],[3,1,0],[1,8,2],[7,2,4]],[[2,3],[1,2],[8,0]] # 4 x 3, 3 x 2\n",
    "\n",
    "answer_1 = [[sum(a*b for a,b in zip(A_row,B_col))for B_col in zip(*B)] for A_row in A] #zip(*B) is transpose of B.\n",
    "#For every element of column of B, we multiply every element of row of A.Then we do the sum of them and we get no.of rows of A x no.of cols of B as Output dims.\n",
    "execution_time = timeit.timeit(code_to_test, number=1)\n",
    "print(\"time to execute:\",execution_time,\"seconds\")"
   ]
  },
  {
   "cell_type": "code",
   "execution_count": 3,
   "id": "c8e5f507",
   "metadata": {},
   "outputs": [
    {
     "name": "stdout",
     "output_type": "stream",
     "text": [
      "Using numpy method: [[28  7]\n",
      " [ 7 11]\n",
      " [26 19]\n",
      " [48 25]]\n",
      "Time to execute: 0.002703900000142312 seconds\n"
     ]
    }
   ],
   "source": [
    "#2 numpy method\n",
    "import numpy as np\n",
    "\n",
    "import timeit\n",
    "code_to_test = \"\"\"\n",
    "A = np.array([[1, 2, 3], [3, 1, 0], [1, 8, 2], [7, 2, 4]])\n",
    "B = np.array([[2, 3], [1, 2], [8, 0]])\n",
    "answer_2 = np.dot(A, B)\n",
    "print(\"Using numpy method:\",answer_2)\n",
    "\"\"\"\n",
    "execution_time = timeit.timeit(code_to_test, number=1, globals=globals())\n",
    "print(\"Time to execute:\", execution_time, \"seconds\")"
   ]
  },
  {
   "cell_type": "markdown",
   "id": "61e669b0",
   "metadata": {},
   "source": [
    "Numpy method is faster than List of lists method as in numpy method, the numbers are stored in contiguous memory locations, not in random like lists. And, The NumPy package integrates C, C++, Fortran codes in Python. These programming languages have very little execution time compared to pure Python and numpy avoids multiple loops unlike list of lists method.\n",
    "\n",
    "[GeeksforGeeks. (2021, August 13). Why is Numpy faster in Python? GeeksforGeeks. https://www.geeksforgeeks.org/why-numpy-is-faster-in-python/] "
   ]
  },
  {
   "cell_type": "code",
   "execution_count": 4,
   "id": "e715855e",
   "metadata": {},
   "outputs": [
    {
     "name": "stdout",
     "output_type": "stream",
     "text": [
      "Using this approach, median: 4\n",
      "Time to execute: 0.0003853999999137159 seconds\n"
     ]
    }
   ],
   "source": [
    "#Question 3)\n",
    "#let\n",
    "A = [1, 4, 7, 4, 2, 0, 19, 8, 5]\n",
    "\n",
    "#1) finding the median for A using method, which needs 1 iteration to get maximum element.\n",
    "import timeit\n",
    "\n",
    "code_to_test = \"\"\"\n",
    "A_copy = A.copy()\n",
    "length = len(A_copy)\n",
    "n = len(A_copy) // 2 + 1\n",
    "\n",
    "for _ in range(n):\n",
    "    max_idx = 0\n",
    "    for i in range(1, len(A_copy)):\n",
    "        if A_copy[i] > A_copy[max_idx]:\n",
    "            max_idx = i\n",
    "    max_value_1 = A_copy.pop(max_idx)\n",
    "\n",
    "if length % 2 == 0:\n",
    "\n",
    "    max_idx = 0\n",
    "    for i in range(1, len(A_copy)):\n",
    "        if A_copy[i] > A_copy[max_idx]:\n",
    "            max_idx = i\n",
    "    max_value_2 = A_copy.pop(max_idx)\n",
    "    median = (max_value_1 + max_value_2) / 2\n",
    "else:\n",
    "    median = max_value_1\n",
    "\n",
    "print(\"Using this approach, median:\", median)\n",
    "\"\"\"\n",
    "\n",
    "execution_time = timeit.timeit(code_to_test, number=1, globals=globals())\n",
    "print(\"Time to execute:\", execution_time, \"seconds\")\n"
   ]
  },
  {
   "cell_type": "markdown",
   "id": "26b5cf39",
   "metadata": {},
   "source": [
    "Complexity of above approach:\n",
    "\n",
    "To find the 1st maximum in worst time case = O(n)\n",
    "To find the 2nd maximum in worst time case = O(n-1)\n",
    "To find the 3rd maximum in worst time case = O(n-2)...\n",
    "\n",
    "Overall complexity = O(n + n-1 + n-2 + ... + n/2) = O(n/2(n/2+1)) = O(n^2).\n",
    "\n",
    "However we have better approaches than having time complexity of O(n^2)."
   ]
  },
  {
   "cell_type": "code",
   "execution_count": 5,
   "id": "3bba7fb3",
   "metadata": {},
   "outputs": [
    {
     "name": "stdout",
     "output_type": "stream",
     "text": [
      "Using quicksearch algorithm median: 4\n",
      "Time to execute: 0.0009043000000019674 seconds\n"
     ]
    }
   ],
   "source": [
    "import random\n",
    "\n",
    "import timeit\n",
    "code_to_test = \"\"\"\n",
    "\n",
    "A = [1, 4, 7, 4, 2, 0, 19, 8, 5]\n",
    "n = len(A)\n",
    "\n",
    "def quick_select(arr, left, right, k):\n",
    "    if left == right:\n",
    "        return arr[left]  # if left=right, then we already got the element or it is single element array. So, simply return\n",
    "\n",
    "    pivot_index = random.randint(left, right)  # choose any integer between left and right (start and end for starting iteration)\n",
    "    pivot = arr[pivot_index]\n",
    "    arr[pivot_index], arr[right] = arr[right], arr[pivot_index]\n",
    "    # we are pushing the pivot to last and are going to make such that lesser than pivot falls on left of it and opposite to right \n",
    "\n",
    "    i = left\n",
    "    for j in range(left, right):\n",
    "        if arr[j] <= pivot:\n",
    "            arr[i], arr[j] = arr[j], arr[i]  # we simply swap the elements which are lesser than pivot to left, automatically\n",
    "            i += 1  # we will have more ones on right of pivot.\n",
    "    arr[i], arr[right] = arr[right], arr[i]\n",
    "\n",
    "    if k == i:\n",
    "        return arr[k]  # if k=i, then we got our kth smallest element\n",
    "    elif k < i:\n",
    "        return quick_select(arr, left, i - 1, k)  # if k<i, it means, that we have to search on left. So, array = left\n",
    "    else:\n",
    "        return quick_select(arr, i + 1, right, k)  # if k>i, we have it on right and pivot needed to be corrected to (k-left index(i)- 1)\n",
    "    \n",
    "if n % 2 == 0:\n",
    "    # Even number of elements, average of middle two\n",
    "    print((quick_select(A, 0, n - 1, n // 2 - 1) + quick_select(A, 0, n - 1, n // 2)) / 2)\n",
    "else:\n",
    "    # Odd number of elements, middle element\n",
    "    print(\"Using quicksearch algorithm median:\",quick_select(A, 0, n - 1, n // 2))\n",
    "\"\"\"\n",
    "execution_time = timeit.timeit(code_to_test, number=1, globals=globals())\n",
    "print(\"Time to execute:\", execution_time, \"seconds\")"
   ]
  },
  {
   "cell_type": "markdown",
   "id": "d363021b",
   "metadata": {},
   "source": [
    "We see that the average time complexity is O(n), instead of O(n^2) like previous approach. This is because, we see that on an average, we plit the lesser to the left of pivot and morer value to the right, each just by swapping, making complexity O(n). And we see sometimes iterating to left or right, based on values of k and generally it will be quicker to get the mean from here on, making average complexity O(n). Worst case still can be O(n^2) though.\n",
    "\n",
    "[GeeksforGeeks. (n.d.). Quick select in Python. GeeksforGeeks. Retrieved August 5, 2024, from https://www.geeksforgeeks.org/quick-select-in-python/]"
   ]
  },
  {
   "cell_type": "code",
   "execution_count": 6,
   "id": "a7438a91",
   "metadata": {},
   "outputs": [
    {
     "name": "stdout",
     "output_type": "stream",
     "text": [
      "Using numpy.median method, median =  4.0\n",
      "Time to execute: 0.002195300000039424 seconds\n"
     ]
    }
   ],
   "source": [
    "#comparing to numpy.median method:\n",
    "\n",
    "import timeit\n",
    "code_to_test = \"\"\"\n",
    "import numpy as np\n",
    "A = np.array([1, 4, 7, 4, 2, 0, 19, 8, 5])\n",
    "print(\"Using numpy.median method, median = \",np.median(A,axis = 0))\n",
    "\"\"\"\n",
    "execution_time = timeit.timeit(code_to_test, number=1, globals=globals())\n",
    "print(\"Time to execute:\", execution_time, \"seconds\")"
   ]
  },
  {
   "cell_type": "markdown",
   "id": "6b422c7f",
   "metadata": {},
   "source": [
    "Hence we see that quickselect method is fastest and since its complexity is O(n) which is best among all of these."
   ]
  },
  {
   "cell_type": "markdown",
   "id": "d408ec23",
   "metadata": {},
   "source": [
    "Question 4)\n",
    "\n",
    "\n",
    "$f(x,y) = x^{2}y + y^{3}sin(x)$, we have to find $\\nabla $ f(x,y) = [$\\frac{\\partial f(x,y)}{\\partial x}$,$\\frac{\\partial f(x,y)}{\\partial y}$].\n",
    "\n",
    "$\\frac{\\partial f}{\\partial x}$ =  2xy + cos(x)$y^{3}$, and $\\frac{\\partial f}{\\partial y}$ =  $x^{2}$ + 3sin(x)$y^{2}$;\n",
    "\n",
    "So, $\\nabla $ f(x,y) = [ 2xy + cos(x)$y^{3}$, $x^{2}$ + 3sin(x)$y^{2}$ ]"
   ]
  },
  {
   "cell_type": "code",
   "execution_count": 7,
   "id": "658cff56",
   "metadata": {},
   "outputs": [
    {
     "ename": "ModuleNotFoundError",
     "evalue": "jax requires jaxlib to be installed. See https://github.com/google/jax#installation for installation instructions.",
     "output_type": "error",
     "traceback": [
      "\u001b[1;31m---------------------------------------------------------------------------\u001b[0m",
      "\u001b[1;31mModuleNotFoundError\u001b[0m                       Traceback (most recent call last)",
      "\u001b[1;32m~\\anaconda3\\lib\\site-packages\\jax\\_src\\lib\\__init__.py\u001b[0m in \u001b[0;36m<module>\u001b[1;34m\u001b[0m\n\u001b[0;32m     23\u001b[0m \u001b[1;32mtry\u001b[0m\u001b[1;33m:\u001b[0m\u001b[1;33m\u001b[0m\u001b[1;33m\u001b[0m\u001b[0m\n\u001b[1;32m---> 24\u001b[1;33m   \u001b[1;32mimport\u001b[0m \u001b[0mjaxlib\u001b[0m \u001b[1;32mas\u001b[0m \u001b[0mjaxlib\u001b[0m\u001b[1;33m\u001b[0m\u001b[1;33m\u001b[0m\u001b[0m\n\u001b[0m\u001b[0;32m     25\u001b[0m \u001b[1;32mexcept\u001b[0m \u001b[0mModuleNotFoundError\u001b[0m \u001b[1;32mas\u001b[0m \u001b[0merr\u001b[0m\u001b[1;33m:\u001b[0m\u001b[1;33m\u001b[0m\u001b[1;33m\u001b[0m\u001b[0m\n",
      "\u001b[1;31mModuleNotFoundError\u001b[0m: No module named 'jaxlib'",
      "\nThe above exception was the direct cause of the following exception:\n",
      "\u001b[1;31mModuleNotFoundError\u001b[0m                       Traceback (most recent call last)",
      "\u001b[1;32m<ipython-input-7-24f5b28d07c6>\u001b[0m in \u001b[0;36m<module>\u001b[1;34m\u001b[0m\n\u001b[0;32m      3\u001b[0m \u001b[1;31m#let\u001b[0m\u001b[1;33m\u001b[0m\u001b[1;33m\u001b[0m\u001b[1;33m\u001b[0m\u001b[0m\n\u001b[0;32m      4\u001b[0m \u001b[0mx\u001b[0m\u001b[1;33m,\u001b[0m \u001b[0my\u001b[0m \u001b[1;33m=\u001b[0m \u001b[1;36m9.7\u001b[0m\u001b[1;33m,\u001b[0m \u001b[1;36m6.3\u001b[0m\u001b[1;33m\u001b[0m\u001b[1;33m\u001b[0m\u001b[0m\n\u001b[1;32m----> 5\u001b[1;33m \u001b[1;32mimport\u001b[0m \u001b[0mjax\u001b[0m\u001b[1;33m\u001b[0m\u001b[1;33m\u001b[0m\u001b[0m\n\u001b[0m\u001b[0;32m      6\u001b[0m \u001b[1;32mimport\u001b[0m \u001b[0mnumpy\u001b[0m \u001b[1;32mas\u001b[0m \u001b[0mnp\u001b[0m\u001b[1;33m\u001b[0m\u001b[1;33m\u001b[0m\u001b[0m\n\u001b[0;32m      7\u001b[0m \u001b[1;32mdef\u001b[0m \u001b[0mf\u001b[0m\u001b[1;33m(\u001b[0m\u001b[0mx\u001b[0m\u001b[1;33m,\u001b[0m \u001b[0my\u001b[0m\u001b[1;33m)\u001b[0m\u001b[1;33m:\u001b[0m\u001b[1;33m\u001b[0m\u001b[1;33m\u001b[0m\u001b[0m\n",
      "\u001b[1;32m~\\anaconda3\\lib\\site-packages\\jax\\__init__.py\u001b[0m in \u001b[0;36m<module>\u001b[1;34m\u001b[0m\n\u001b[0;32m     33\u001b[0m \u001b[1;31m# We want the exported object to be the class, so we first import the module\u001b[0m\u001b[1;33m\u001b[0m\u001b[1;33m\u001b[0m\u001b[1;33m\u001b[0m\u001b[0m\n\u001b[0;32m     34\u001b[0m \u001b[1;31m# to make sure a later import doesn't overwrite the class.\u001b[0m\u001b[1;33m\u001b[0m\u001b[1;33m\u001b[0m\u001b[1;33m\u001b[0m\u001b[0m\n\u001b[1;32m---> 35\u001b[1;33m \u001b[1;32mfrom\u001b[0m \u001b[0mjax\u001b[0m \u001b[1;32mimport\u001b[0m \u001b[0mconfig\u001b[0m \u001b[1;32mas\u001b[0m \u001b[0m_config_module\u001b[0m\u001b[1;33m\u001b[0m\u001b[1;33m\u001b[0m\u001b[0m\n\u001b[0m\u001b[0;32m     36\u001b[0m \u001b[1;32mdel\u001b[0m \u001b[0m_config_module\u001b[0m\u001b[1;33m\u001b[0m\u001b[1;33m\u001b[0m\u001b[0m\n\u001b[0;32m     37\u001b[0m \u001b[1;33m\u001b[0m\u001b[0m\n",
      "\u001b[1;32m~\\anaconda3\\lib\\site-packages\\jax\\config.py\u001b[0m in \u001b[0;36m<module>\u001b[1;34m\u001b[0m\n\u001b[0;32m     15\u001b[0m \u001b[1;31m# TODO(phawkins): fix users of this alias and delete this file.\u001b[0m\u001b[1;33m\u001b[0m\u001b[1;33m\u001b[0m\u001b[1;33m\u001b[0m\u001b[0m\n\u001b[0;32m     16\u001b[0m \u001b[1;33m\u001b[0m\u001b[0m\n\u001b[1;32m---> 17\u001b[1;33m \u001b[1;32mfrom\u001b[0m \u001b[0mjax\u001b[0m\u001b[1;33m.\u001b[0m\u001b[0m_src\u001b[0m\u001b[1;33m.\u001b[0m\u001b[0mconfig\u001b[0m \u001b[1;32mimport\u001b[0m \u001b[0mconfig\u001b[0m  \u001b[1;31m# noqa: F401\u001b[0m\u001b[1;33m\u001b[0m\u001b[1;33m\u001b[0m\u001b[0m\n\u001b[0m",
      "\u001b[1;32m~\\anaconda3\\lib\\site-packages\\jax\\_src\\config.py\u001b[0m in \u001b[0;36m<module>\u001b[1;34m\u001b[0m\n\u001b[0;32m     22\u001b[0m \u001b[1;32mfrom\u001b[0m \u001b[0mtyping\u001b[0m \u001b[1;32mimport\u001b[0m \u001b[0mAny\u001b[0m\u001b[1;33m,\u001b[0m \u001b[0mList\u001b[0m\u001b[1;33m,\u001b[0m \u001b[0mCallable\u001b[0m\u001b[1;33m,\u001b[0m \u001b[0mHashable\u001b[0m\u001b[1;33m,\u001b[0m \u001b[0mNamedTuple\u001b[0m\u001b[1;33m,\u001b[0m \u001b[0mIterator\u001b[0m\u001b[1;33m,\u001b[0m \u001b[0mOptional\u001b[0m\u001b[1;33m\u001b[0m\u001b[1;33m\u001b[0m\u001b[0m\n\u001b[0;32m     23\u001b[0m \u001b[1;33m\u001b[0m\u001b[0m\n\u001b[1;32m---> 24\u001b[1;33m \u001b[1;32mfrom\u001b[0m \u001b[0mjax\u001b[0m\u001b[1;33m.\u001b[0m\u001b[0m_src\u001b[0m \u001b[1;32mimport\u001b[0m \u001b[0mlib\u001b[0m\u001b[1;33m\u001b[0m\u001b[1;33m\u001b[0m\u001b[0m\n\u001b[0m\u001b[0;32m     25\u001b[0m \u001b[1;32mfrom\u001b[0m \u001b[0mjax\u001b[0m\u001b[1;33m.\u001b[0m\u001b[0m_src\u001b[0m\u001b[1;33m.\u001b[0m\u001b[0mlib\u001b[0m \u001b[1;32mimport\u001b[0m \u001b[0mjax_jit\u001b[0m\u001b[1;33m\u001b[0m\u001b[1;33m\u001b[0m\u001b[0m\n\u001b[0;32m     26\u001b[0m \u001b[1;32mfrom\u001b[0m \u001b[0mjax\u001b[0m\u001b[1;33m.\u001b[0m\u001b[0m_src\u001b[0m\u001b[1;33m.\u001b[0m\u001b[0mlib\u001b[0m \u001b[1;32mimport\u001b[0m \u001b[0mtransfer_guard_lib\u001b[0m\u001b[1;33m\u001b[0m\u001b[1;33m\u001b[0m\u001b[0m\n",
      "\u001b[1;32m~\\anaconda3\\lib\\site-packages\\jax\\_src\\lib\\__init__.py\u001b[0m in \u001b[0;36m<module>\u001b[1;34m\u001b[0m\n\u001b[0;32m     24\u001b[0m   \u001b[1;32mimport\u001b[0m \u001b[0mjaxlib\u001b[0m \u001b[1;32mas\u001b[0m \u001b[0mjaxlib\u001b[0m\u001b[1;33m\u001b[0m\u001b[1;33m\u001b[0m\u001b[0m\n\u001b[0;32m     25\u001b[0m \u001b[1;32mexcept\u001b[0m \u001b[0mModuleNotFoundError\u001b[0m \u001b[1;32mas\u001b[0m \u001b[0merr\u001b[0m\u001b[1;33m:\u001b[0m\u001b[1;33m\u001b[0m\u001b[1;33m\u001b[0m\u001b[0m\n\u001b[1;32m---> 26\u001b[1;33m   raise ModuleNotFoundError(\n\u001b[0m\u001b[0;32m     27\u001b[0m     \u001b[1;34m'jax requires jaxlib to be installed. See '\u001b[0m\u001b[1;33m\u001b[0m\u001b[1;33m\u001b[0m\u001b[0m\n\u001b[0;32m     28\u001b[0m     \u001b[1;34m'https://github.com/google/jax#installation for installation instructions.'\u001b[0m\u001b[1;33m\u001b[0m\u001b[1;33m\u001b[0m\u001b[0m\n",
      "\u001b[1;31mModuleNotFoundError\u001b[0m: jax requires jaxlib to be installed. See https://github.com/google/jax#installation for installation instructions."
     ]
    }
   ],
   "source": [
    "##Question 5: JAX to confirm whether the gradient evaluated by our method matches the analytical solution corresponding\n",
    "#to a few random values of x and y.\n",
    "#let\n",
    "x, y = 9.7, 6.3\n",
    "import jax\n",
    "import numpy as np\n",
    "def f(x, y):\n",
    "    return x**2 * y + y**3 * np.sin(x)\n",
    "def grad_f(x, y):\n",
    "    return jax.grad(f, argnums=(0, 1))(x, y)\n",
    "\n",
    "# Analytical gradient\n",
    "analytical_grad = [2 * x * y + y**3 * np.cos(x), x**2 + 3 * y**2 * np.sin(x)]\n",
    "# Numerical gradient\n",
    "numerical_grad = grad_f(x, y)\n",
    "\n",
    "print(\"Analytical gradient:\", analytical_grad)\n",
    "print(\"Numerical gradient:\", numerical_grad)"
   ]
  },
  {
   "cell_type": "code",
   "execution_count": 8,
   "id": "1e3ada92",
   "metadata": {},
   "outputs": [
    {
     "name": "stdout",
     "output_type": "stream",
     "text": [
      "Symbolic gradient: Matrix([[2*x*y + y**3*cos(x), x**2 + 3*y**2*sin(x)]])\n"
     ]
    }
   ],
   "source": [
    "#Question 6) Use sympy to confirm that we obtained the same gradient analytically.\n",
    "import sympy as sp\n",
    "x, y = sp.symbols('x y')\n",
    "\n",
    "f = x**2 * y + y**3 * sp.sin(x)\n",
    "\n",
    "gradient = sp.Matrix([f]).jacobian([x, y])\n",
    "\n",
    "print(\"Symbolic gradient:\", gradient)\n",
    "\n",
    "#code inspired from\n",
    "#[Chikorita Rai. (2014, October 31). Evaluating Jacobian at specific points using sympy. Stack Overflow. https://stackoverflow.com/questions/26669706/evaluating-jacobian-at-specific-points-using-sympy]"
   ]
  },
  {
   "cell_type": "code",
   "execution_count": 9,
   "id": "a1814a0c",
   "metadata": {},
   "outputs": [
    {
     "name": "stdout",
     "output_type": "stream",
     "text": [
      "dict_keys([2022, 2023, 2024, 2025])\n",
      "dict_values([{'Branch 1': {1: {'Name': 'N', 'Marks': {'Maths': 100, 'English': 70, 'Telugu': 95}}, 2: {'Name': 'M', 'Marks': {'Maths': 80, 'English': 40, 'Telugu': 85}}}, 'Branch 2': {1: {'Name': 'O', 'Marks': {'Maths': 100, 'English': 60, 'Telugu': 75}}, 2: {'Name': 'P', 'Marks': {'Maths': 90, 'English': 70, 'Telugu': 65}}}}, {'Branch 1': {1: {'Name': 'Q', 'Marks': {'Maths': 10, 'English': 80, 'Telugu': 45}}, 2: {'Name': 'R', 'Marks': {'Maths': 100, 'English': 70, 'Telugu': 95}}}, 'Branch 2': {1: {'Name': 'S', 'Marks': {'Maths': 30, 'English': 60, 'Telugu': 95}}, 2: {'Name': 'T', 'Marks': {'Maths': 90, 'English': 60, 'Telugu': 85}}}}, {'Branch 1': {1: {'Name': 'U', 'Marks': {'Maths': 30, 'English': 87, 'Telugu': 45}}, 2: {'Name': 'V', 'Marks': {'Maths': 50, 'English': 60, 'Telugu': 65}}}, 'Branch 2': {1: {'Name': 'W', 'Marks': {'Maths': 90, 'English': 80, 'Telugu': 45}}, 2: {'Name': 'X', 'Marks': {'Maths': 48, 'English': 60, 'Telugu': 85}}}}, {'Branch 1': {1: {'Name': 'Y', 'Marks': {'Maths': 10, 'English': 80, 'Telugu': 45}}, 2: {'Name': 'Z', 'Marks': {'Maths': 100, 'English': 70, 'Telugu': 95}}}, 'Branch 2': {1: {'Name': 'A', 'Marks': {'Maths': 30, 'English': 60, 'Telugu': 95}}, 2: {'Name': 'B', 'Marks': {'Maths': 90, 'English': 60, 'Telugu': 85}}}}])\n"
     ]
    }
   ],
   "source": [
    "#Question 7) Create a dictionary:\n",
    "student_records = {\n",
    "    2022: {\n",
    "        \"Branch 1\": {\n",
    "            1: {\n",
    "                \"Name\": \"N\",\n",
    "                \"Marks\": {\n",
    "                    \"Maths\": 100,\n",
    "                    \"English\": 70,\n",
    "                    \"Telugu\": 95\n",
    "                }\n",
    "            },\n",
    "            2: {\n",
    "                \"Name\": \"M\",\n",
    "                \"Marks\": {\n",
    "                    \"Maths\": 80,\n",
    "                    \"English\": 40,\n",
    "                    \"Telugu\": 85\n",
    "                }\n",
    "            }\n",
    "        },\n",
    "        \"Branch 2\": {\n",
    "            1: {\n",
    "                \"Name\": \"O\",\n",
    "                \"Marks\": {\n",
    "                    \"Maths\": 100,\n",
    "                    \"English\": 60,\n",
    "                    \"Telugu\": 75\n",
    "                }\n",
    "            },\n",
    "            2: {\n",
    "                \"Name\": \"P\",\n",
    "                \"Marks\": {\n",
    "                    \"Maths\": 90,\n",
    "                    \"English\": 70,\n",
    "                    \"Telugu\": 65\n",
    "                }\n",
    "            }\n",
    "        }\n",
    "    },\n",
    "    2023: {\n",
    "        \"Branch 1\": {\n",
    "            1: {\n",
    "                \"Name\": \"Q\",\n",
    "                \"Marks\": {\n",
    "                    \"Maths\": 10,\n",
    "                    \"English\": 80,\n",
    "                    \"Telugu\": 45\n",
    "                }\n",
    "            },\n",
    "            2: {\n",
    "                \"Name\": \"R\",\n",
    "                \"Marks\": {\n",
    "                    \"Maths\": 100,\n",
    "                    \"English\": 70,\n",
    "                    \"Telugu\": 95\n",
    "                }\n",
    "            }\n",
    "        },\n",
    "        \"Branch 2\": {\n",
    "            1: {\n",
    "                \"Name\": \"S\",\n",
    "                \"Marks\": {\n",
    "                    \"Maths\": 30,\n",
    "                    \"English\": 60,\n",
    "                    \"Telugu\": 95\n",
    "                }\n",
    "            },\n",
    "            2: {\n",
    "                \"Name\": \"T\",\n",
    "                \"Marks\": {\n",
    "                    \"Maths\": 90,\n",
    "                    \"English\": 60,\n",
    "                    \"Telugu\": 85\n",
    "                }\n",
    "            }\n",
    "        }\n",
    "    },\n",
    "    2024: {\n",
    "        \"Branch 1\": {\n",
    "            1: {\n",
    "                \"Name\": \"U\",\n",
    "                \"Marks\": {\n",
    "                    \"Maths\": 30,\n",
    "                    \"English\": 87,\n",
    "                    \"Telugu\": 45\n",
    "                }\n",
    "            },\n",
    "            2: {\n",
    "                \"Name\": \"V\",\n",
    "                \"Marks\": {\n",
    "                    \"Maths\": 50,\n",
    "                    \"English\": 60,\n",
    "                    \"Telugu\": 65\n",
    "                }\n",
    "            }\n",
    "        },\n",
    "        \"Branch 2\": {\n",
    "            1: {\n",
    "                \"Name\": \"W\",\n",
    "                \"Marks\": {\n",
    "                    \"Maths\": 90,\n",
    "                    \"English\": 80,\n",
    "                    \"Telugu\": 45\n",
    "                }\n",
    "            },\n",
    "            2: {\n",
    "                \"Name\": \"X\",\n",
    "                \"Marks\": {\n",
    "                    \"Maths\": 48,\n",
    "                    \"English\": 60,\n",
    "                    \"Telugu\": 85\n",
    "                }\n",
    "            }\n",
    "        }\n",
    "    },\n",
    "    2025: {\n",
    "        \"Branch 1\": {\n",
    "            1: {\n",
    "                \"Name\": \"Y\",\n",
    "                \"Marks\": {\n",
    "                    \"Maths\": 10,\n",
    "                    \"English\": 80,\n",
    "                    \"Telugu\": 45\n",
    "                }\n",
    "            },\n",
    "            2: {\n",
    "                \"Name\": \"Z\",\n",
    "                \"Marks\": {\n",
    "                    \"Maths\": 100,\n",
    "                    \"English\": 70,\n",
    "                    \"Telugu\": 95\n",
    "                }\n",
    "            }\n",
    "        },\n",
    "        \"Branch 2\": {\n",
    "            1: {\n",
    "                \"Name\": \"A\",\n",
    "                \"Marks\": {\n",
    "                    \"Maths\": 30,\n",
    "                    \"English\": 60,\n",
    "                    \"Telugu\": 95\n",
    "                }\n",
    "            },\n",
    "            2: {\n",
    "                \"Name\": \"B\",\n",
    "                \"Marks\": {\n",
    "                    \"Maths\": 90,\n",
    "                    \"English\": 60,\n",
    "                    \"Telugu\": 85\n",
    "                }\n",
    "            }\n",
    "        }\n",
    "    }\n",
    "}\n",
    "print(student_records.keys())\n",
    "print(student_records.values())"
   ]
  },
  {
   "cell_type": "code",
   "execution_count": 10,
   "id": "8e3cbe6f",
   "metadata": {},
   "outputs": [],
   "source": [
    "#Question 8: Store the above database as using python classes form.\n",
    "\n",
    "class Marks:\n",
    "    def __init__(self, **kwargs):   #kwargs means key word arguments. Means, It can store dictionary internally. \n",
    "        self.marks = kwargs\n",
    "\n",
    "class Student:\n",
    "    def __init__(self, roll_number, name, marks):\n",
    "        self.roll_number = roll_number\n",
    "        self.name = name\n",
    "        self.marks = marks\n",
    "\n",
    "class Branch:\n",
    "    def __init__(self, name):\n",
    "        self.name = name\n",
    "        self.students = []\n",
    "\n",
    "class Year:\n",
    "    def __init__(self, year):\n",
    "        self.year = year\n",
    "        self.branches = []\n",
    "\n",
    "class Database:\n",
    "    def __init__(self):\n",
    "        self.years = []\n"
   ]
  },
  {
   "cell_type": "code",
   "execution_count": 11,
   "id": "5b25950d",
   "metadata": {},
   "outputs": [
    {
     "name": "stdout",
     "output_type": "stream",
     "text": [
      "<class '__main__.Database'>\n"
     ]
    }
   ],
   "source": [
    "database = Database()\n",
    "#-----------------------------------------------2022--------------------------------\n",
    "year2022 = Year(2022)\n",
    "database.years.append(year2022)\n",
    "\n",
    "branch1_2022 = Branch(\"Branch 1\")\n",
    "branch2_2022 = Branch(\"Branch 2\")\n",
    "\n",
    "year2022.branches.append(branch1_2022)\n",
    "year2022.branches.append(branch2_2022)\n",
    "\n",
    "student1 = Student(1, \"N\", Marks(Maths=100, English=70, Telugu = 95))\n",
    "student2 = Student(2, \"M\", Marks(Maths=80, English=40, Telugu = 85))\n",
    "student3 = Student(3, \"O\", Marks(Maths=100, English=60, Telugu = 75))\n",
    "student4 = Student(4, \"P\", Marks(Maths=90, English=70, Telugu = 65))\n",
    "\n",
    "branch1_2022.students.append(student1)\n",
    "branch1_2022.students.append(student2)\n",
    "branch2_2022.students.append(student3)\n",
    "branch2_2022.students.append(student4)\n",
    "\n",
    "\n",
    "#-------------------------------------------2023-----------------------------------\n",
    "year2023 = Year(2023)\n",
    "database.years.append(year2022)\n",
    "\n",
    "branch1_2023 = Branch(\"Branch 1\")\n",
    "branch2_2023 = Branch(\"Branch 2\")\n",
    "\n",
    "year2023.branches.append(branch1_2023)\n",
    "year2023.branches.append(branch2_2023)\n",
    "\n",
    "student1 = Student(1, \"Q\", Marks(Maths=10, English=80, Telugu = 45))\n",
    "student2 = Student(2, \"R\", Marks(Maths=100, English=70, Telugu = 95))\n",
    "student3 = Student(3, \"S\", Marks(Maths=30, English=60, Telugu = 95))\n",
    "student4 = Student(4, \"T\", Marks(Maths=90, English=60, Telugu = 85))\n",
    "\n",
    "branch1_2023.students.append(student1)\n",
    "branch1_2023.students.append(student2)\n",
    "branch2_2023.students.append(student3)\n",
    "branch2_2023.students.append(student4)\n",
    "\n",
    "#-------------------------------------2024-----------------------------------------\n",
    "year2024 = Year(2024)\n",
    "database.years.append(year2024)\n",
    "\n",
    "branch1_2024 = Branch(\"Branch 1\")\n",
    "branch2_2024 = Branch(\"Branch 2\")\n",
    "\n",
    "year2024.branches.append(branch1_2024)\n",
    "year2024.branches.append(branch2_2024)\n",
    "\n",
    "student1 = Student(1, \"U\", Marks(Maths=30, English=87, Telugu = 45))\n",
    "student2 = Student(2, \"V\", Marks(Maths=50, English=60, Telugu = 65))\n",
    "student3 = Student(3, \"W\", Marks(Maths=90, English=80, Telugu = 45))\n",
    "student4 = Student(4, \"X\", Marks(Maths=48, English=60, Telugu = 85))\n",
    "\n",
    "branch1_2024.students.append(student1)\n",
    "branch1_2024.students.append(student2)\n",
    "branch2_2024.students.append(student3)\n",
    "branch2_2024.students.append(student4)\n",
    "\n",
    "#-----------------------------------------2025---------------------------------------\n",
    "year2025 = Year(2025)\n",
    "database.years.append(year2025)\n",
    "\n",
    "branch1_2025 = Branch(\"Branch 1\")\n",
    "branch2_2025 = Branch(\"Branch 2\")\n",
    "\n",
    "year2025.branches.append(branch1_2025)\n",
    "year2025.branches.append(branch2_2025)\n",
    "\n",
    "student1 = Student(1, \"Y\", Marks(Maths=10, English=80, Telugu = 45))\n",
    "student2 = Student(2, \"Z\", Marks(Maths=100, English=70, Telugu = 95))\n",
    "student3 = Student(3, \"A\", Marks(Maths=30, English=60, Telugu = 95))\n",
    "student4 = Student(4, \"B\", Marks(Maths=90, English=60, Telugu = 85))\n",
    "\n",
    "branch1_2025.students.append(student1)\n",
    "branch1_2025.students.append(student2)\n",
    "branch2_2025.students.append(student3)\n",
    "branch2_2025.students.append(student4)\n",
    "\n",
    "print(Database)"
   ]
  },
  {
   "cell_type": "code",
   "execution_count": 12,
   "id": "e9f14e46",
   "metadata": {},
   "outputs": [
    {
     "data": {
      "image/png": "[encoded data removed]",
      "text/plain": [
       "<Figure size 864x576 with 6 Axes>"
      ]
     },
     "metadata": {
      "needs_background": "light"
     },
     "output_type": "display_data"
    },
    {
     "data": {
      "image/png": "[encoded data removed]",
      "text/plain": [
       "<Figure size 432x288 with 1 Axes>"
      ]
     },
     "metadata": {
      "needs_background": "light"
     },
     "output_type": "display_data"
    }
   ],
   "source": [
    "import matplotlib.pyplot as plt\n",
    "import numpy as np\n",
    "\n",
    "x = np.arange(0.5, 100.5, 0.5)\n",
    "fig, axs = plt.subplots(3, 2, figsize=(12, 8))\n",
    "\n",
    "y = x\n",
    "axs[0, 0].plot(x, y)\n",
    "axs[0, 0].set_title('y = x')\n",
    "axs[0, 0].set_xlabel('x')\n",
    "axs[0, 0].set_ylabel('y')\n",
    "\n",
    "y = x**2\n",
    "axs[0, 1].plot(x, y)\n",
    "axs[0, 1].set_title('y = x^2')\n",
    "axs[0, 1].set_xlabel('x')\n",
    "axs[0, 1].set_ylabel('y')\n",
    "\n",
    "y = x**3/100\n",
    "axs[1, 0].plot(x, y)\n",
    "axs[1, 0].set_title('y = x^3/100')\n",
    "axs[1, 0].set_xlabel('x')\n",
    "axs[1, 0].set_ylabel('y')\n",
    "\n",
    "y = np.sin(x)\n",
    "axs[1, 1].plot(x, y)\n",
    "axs[1, 1].set_title('y = sin(x)')\n",
    "axs[1, 1].set_xlabel('x')\n",
    "axs[1, 1].set_ylabel('y')\n",
    "\n",
    "y = np.sin(x)/x\n",
    "axs[2, 0].plot(x, y)\n",
    "axs[2, 0].set_title('y = sin(x)/x')\n",
    "axs[2, 0].set_xlabel('x')\n",
    "axs[2, 0].set_ylabel('y')\n",
    "\n",
    "y = np.log(x)\n",
    "axs[2, 1].plot(x, y)\n",
    "axs[2, 1].set_title('y = log(x)')\n",
    "axs[2, 1].set_xlabel('x')\n",
    "axs[2, 1].set_ylabel('y')\n",
    "\n",
    "plt.tight_layout()\n",
    "\n",
    "plt.figure()\n",
    "plt.plot(x, np.exp(x))\n",
    "plt.title('y = exp(x)')\n",
    "plt.xlabel('x')\n",
    "plt.ylabel('y')\n",
    "\n",
    "plt.show()\n",
    "#inspired code from [W3Schools. (n.d.). Matplotlib tutorial. W3Schools. https://www.w3schools.com/python/matplotlib_intro.asp]"
   ]
  },
  {
   "cell_type": "code",
   "execution_count": 13,
   "id": "abd1b865",
   "metadata": {},
   "outputs": [
    {
     "name": "stdout",
     "output_type": "stream",
     "text": [
      "For column: c\n",
      "Maximum standard deviation is 0.35085831570934006\n",
      "\n",
      "Row: 4\n",
      "Has the lowest mean. That is: 1.2559530056272992\n"
     ]
    }
   ],
   "source": [
    "#Question 10: Find standard deviations of columns and lowest mean of rows of uniformly generated random numbers btw 1,2.\n",
    "\n",
    "import numpy as np\n",
    "import pandas as pd\n",
    "\n",
    "matrix = np.random.uniform(1, 2, size=(20, 5))\n",
    "#print(matrix)\n",
    "\n",
    "df = pd.DataFrame(matrix, columns=[\"a\", \"b\", \"c\", \"d\", \"e\"])\n",
    "#print(df)\n",
    "\n",
    "std_devs = df.std()\n",
    "#print(\"Standard deviations of columns:\\n\", std_devs)\n",
    "#print(df['a'].std())\n",
    "\n",
    "for key,value in std_devs.items():\n",
    "    if value== max(std_devs):\n",
    "        print(\"For column:\",key)\n",
    "print(\"Maximum standard deviation is\",max(std_devs))\n",
    "\n",
    "means = df.mean(axis=1)   #axis = 1 means in rowly fashion\n",
    "for key, value in means.items():\n",
    "    if value==min(means):\n",
    "        print(\"\\nRow:\", key)\n",
    "print(\"Has the lowest mean. That is:\", min(means))"
   ]
  },
  {
   "cell_type": "code",
   "execution_count": 14,
   "id": "18657615",
   "metadata": {},
   "outputs": [
    {
     "name": "stdout",
     "output_type": "stream",
     "text": [
      "Number of rows where g is 'LT8': 12\n",
      "Standard deviation of f for rows where g is 'LT8': 0.4913234958199872\n",
      "\n",
      "Number of rows where g is 'GT8': 8\n",
      "Standard deviation of f for rows where g is 'GT8': 0.26289705439813144\n"
     ]
    }
   ],
   "source": [
    "#Question 11: Extension of question 10.\n",
    "import numpy as np\n",
    "import pandas as pd\n",
    "\n",
    "matrix = np.random.uniform(1, 2, size=(20, 5))\n",
    "df = pd.DataFrame(matrix, columns=[\"a\", \"b\", \"c\", \"d\", \"e\"])\n",
    "\n",
    "df['f'] = df[['a', 'b', 'c', 'd', 'e']].sum(axis=1)\n",
    "\n",
    "df['g'] = np.where(df['f'] < 8, 'LT8', 'GT8')\n",
    "\n",
    "#print(df)\n",
    "\n",
    "no_of_LT8 = (df['g'] == 'LT8').sum()  #if they are same, that is counted and sum is taken.\n",
    "print(\"Number of rows where g is 'LT8':\", no_of_LT8)\n",
    "\n",
    "df_lt8 = df[df['g'] == 'LT8']   #in whole df, wherever df['g']==LT8, we filterout them.\n",
    "\n",
    "std_f_lt8 = df_lt8['f'].std()\n",
    "\n",
    "print(\"Standard deviation of f for rows where g is 'LT8':\", std_f_lt8)\n",
    "\n",
    "no_of_GT8 = (df['g'] == 'GT8').sum()  #if they are same, that is counted and sum is taken.\n",
    "print(\"\\nNumber of rows where g is 'GT8':\", no_of_GT8)\n",
    "\n",
    "df_gt8 = df[df['g'] == 'GT8']   #in whole df, wherever df['g']==GT8, we filterout them.\n",
    "\n",
    "std_f_gt8 = df_gt8['f'].std()\n",
    "\n",
    "print(\"Standard deviation of f for rows where g is 'GT8':\", std_f_gt8)\n",
    "\n",
    "#Inspired from [The pandas development team. (2024). pandas documentation (Version 2.2.2). pandas. https://pandas.pydata.org/docs/]"
   ]
  },
  {
   "cell_type": "code",
   "execution_count": 15,
   "id": "fff7858c",
   "metadata": {},
   "outputs": [
    {
     "name": "stdout",
     "output_type": "stream",
     "text": [
      "[2 4 6]\n",
      "\n",
      "\n",
      "[[2 4 6]\n",
      " [5 7 9]]\n"
     ]
    }
   ],
   "source": [
    "#Question 12: Write a small piece of code to explain broadcasting in numpy.\n",
    "\n",
    "#Broadcasting means an automatic repition of either value or matrix, thing that numpy does in background that matches the shape of needful. Like scalar transforming into\n",
    "#an array just to get multiplied. Example:\n",
    "\n",
    "import numpy as np\n",
    "A = np.array([1,2,3])\n",
    "B = 2  #is a scalar, but,\n",
    "print(A*B) \n",
    "# is an array. Here, 2 converted to np array of [2,2,2], such that the multiplication happens.\n",
    "\n",
    "print(\"\\n\")\n",
    "\n",
    "#Another case, when a array shapes itself such that broadcasting helps to add. For example:\n",
    "\n",
    "A = np.array([[1, 2, 3], [4, 5, 6]])\n",
    "B = np.array([1, 2, 3])\n",
    "print(A+B)  #Here, [1,2,3] became [[1,2,3],[1,2,3]]. \n"
   ]
  },
  {
   "cell_type": "code",
   "execution_count": 18,
   "id": "28fe4b93",
   "metadata": {},
   "outputs": [
    {
     "name": "stdout",
     "output_type": "stream",
     "text": [
      "Index of minimum element: 1\n",
      "Index of minimum element (np.argmin): 1\n"
     ]
    }
   ],
   "source": [
    "#Question 13: argmin of numpy and normal numpy\n",
    "import numpy as np\n",
    "#Let \n",
    "A = np.array([3, 1, 4, 1, 5, 9])\n",
    "\n",
    "min_index = 0\n",
    "for i in range(1, len(A)):\n",
    "    if A[i] < A[min_index]:\n",
    "        min_index = i\n",
    "print(\"Index of minimum element:\", min_index)\n",
    "\n",
    "\n",
    "#Using numpy's argmin:\n",
    "np_result = np.argmin(A)\n",
    "print(\"Index of minimum element (np.argmin):\", np_result)\n"
   ]
  }
 ],
 "metadata": {
  "kernelspec": {
   "display_name": "Python 3",
   "language": "python",
   "name": "python3"
  },
  "language_info": {
   "codemirror_mode": {
    "name": "ipython",
    "version": 3
   },
   "file_extension": ".py",
   "mimetype": "text/x-python",
   "name": "python",
   "nbconvert_exporter": "python",
   "pygments_lexer": "ipython3",
   "version": "3.8.8"
  }
 },
 "nbformat": 4,
 "nbformat_minor": 5
}
